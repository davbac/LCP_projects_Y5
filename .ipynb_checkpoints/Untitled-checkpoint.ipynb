{
<<<<<<< Updated upstream
 "cells": [],
 "metadata": {},
=======
 "cells": [
  {
   "cell_type": "markdown",
   "id": "84d93089",
   "metadata": {},
   "source": [
    "In order to allow for strategies to change with time as well as allowing for random mutation a different approach was required.\n",
    "The first issue we found with the basic strategies was that a given player would always be either reactive (tit for tat) or proactive (nice guy and so on) and we wanted to diversify the stategies in order to allow both behaviours in the same player so we adopted the following model.\n",
    "Each player is defined by two parameters, $t \\in [-1,1]$ which expresses the probability and behaviour of him acting reactively (for t>o it is tit for tat, for t<0 it is anti tit for tat) and $k \\in [0,1]$, which determines the behaviour when acting proactively.\n",
    "The player acts as follows:\n",
    "A random number $a \\in [0,1]$ is generated, if a<t then the player uses the tft strategy, if a<-t the player uses the atft strategy, otherwise he will cooperate/defect based on k through another randomly generated number as the other classes.\n",
    "\n",
    "Simulations were carried out with 100 rounds, 100 players round robin matches. At the end of each match the players in the bottom 20% of the score were eliminated and were replaced by new players drawn from the distribution of existing players plus a random fluctuation, this is to simulate an evolutionary mechanic in which uneffective players are not able to reproduce, while the new players are drawn from existing ones with the possibility of random mutations. The tournament was composed by 100 matches.\n",
    "\n",
    "RESULTS:\n",
    "Almost immediately the anti tft strategy proves incredibly uneffective"
   ]
  },
  {
   "cell_type": "code",
   "execution_count": 3,
   "id": "c00fc8e4",
   "metadata": {},
   "outputs": [],
   "source": [
    "from pandas.core.computation.check import NUMEXPR_INSTALLED"
   ]
  },
  {
   "cell_type": "code",
   "execution_count": 1,
   "id": "b5c0d6cf",
   "metadata": {},
   "outputs": [
    {
     "ename": "SyntaxError",
     "evalue": "invalid character '🌑' (U+1F311) (3943830814.py, line 1)",
     "output_type": "error",
     "traceback": [
      "\u001b[0;36m  Input \u001b[0;32mIn [1]\u001b[0;36m\u001b[0m\n\u001b[0;31m    🌑🌑🌑🌑🌑🌑🌑🌑🌑🌑🌑\u001b[0m\n\u001b[0m    ^\u001b[0m\n\u001b[0;31mSyntaxError\u001b[0m\u001b[0;31m:\u001b[0m invalid character '🌑' (U+1F311)\n"
     ]
    }
   ],
   "source": [
    "🌑🌑🌑🌑🌑🌑🌑🌑🌑🌑🌑\n",
    "🌑🌑🌑🌔🌕🌕🌕🌘🌑🌑🌑\n",
    "🌑🌑🌓🌕🌕🌕🌕🌕🌗🌑🌑\n",
    "🌑🌑🌔🌕🌘🌑🌒🌕🌗🌑🌑\n",
    "🌑🌑🌕🌘🌑🌑🌑🌒🌖🌑🌑\n",
    "🌑🌒🌕🌕🌘🌑🌒🌕🌕🌑🌑\n",
    "🌑🌒🌕🌕🌕🌕🌕🌕🌕🌑🌑\n",
    "🌑🌒🌕🌕🌕🌕🌕🌕🌕🌑🌑\n",
    "🌑🌒🌕🌕🌕🌖🌕🌕🌕🌑🌑\n",
    "🌑🌒🌕🌕🌗🌑🌓🌕🌕🌑🌑\n",
    "🌒🌕🌕🌕🌗🌔🌕🌕🌕🌑🌑\n",
    "🌑🌑🌑🌑🌑🌑🌑🌑🌑🌑🌑"
   ]
  },
  {
   "cell_type": "markdown",
   "id": "44b96518",
   "metadata": {},
   "source": [
    "The function to \"evolve\" the players works as follows:\n",
    "players with at least mean-std score are allowed to pass to the next round, new players are then generated based on the best player. Finally, all strategies are randomly mutated before proceeding to the next round."
   ]
  },
  {
   "cell_type": "code",
   "execution_count": null,
   "id": "06bd0fe2",
   "metadata": {},
   "outputs": [],
   "source": [
    "def evolve(pl, scores, sigma_cutoff=-1):\n",
    "    N = len(pl)\n",
    "    tot = sum(scores)\n",
    "    \n",
    "    newpl, newscores = [], []\n",
    "    \n",
    "    m, s = mean(scores), std(scores)\n",
    "    \n",
    "    for i in range(N):\n",
    "        if scores[i] > m + sigma_cutoff * s:\n",
    "            newpl.append(pl[i])\n",
    "            newscores.append(scores[i])\n",
    "    \n",
    "    frac = N // len(newscores)\n",
    "    for i in range(frac-1):\n",
    "        for j in range(len(newscores)):\n",
    "            p=newpl[j]\n",
    "            newpl.append(Player(p.k, p.t))\n",
    "    \n",
    "    best_pl=newpl[sorted([(newscores[i], i) for i in range(len(newscores))], key=lambda j:j[0], reverse=True)[0][1]]\n",
    "    while len(newpl)<N:\n",
    "        newpl.append(Player(best_pl.k, best_pl.t))\n",
    "    \n",
    "    for p in newpl:\n",
    "        p.randomize()\n",
    "    \n",
    "    return newpl"
   ]
  }
 ],
 "metadata": {
  "kernelspec": {
   "display_name": "Python 3 (ipykernel)",
   "language": "python",
   "name": "python3"
  },
  "language_info": {
   "codemirror_mode": {
    "name": "ipython",
    "version": 3
   },
   "file_extension": ".py",
   "mimetype": "text/x-python",
   "name": "python",
   "nbconvert_exporter": "python",
   "pygments_lexer": "ipython3",
   "version": "3.9.12"
  }
 },
>>>>>>> Stashed changes
 "nbformat": 4,
 "nbformat_minor": 5
}
