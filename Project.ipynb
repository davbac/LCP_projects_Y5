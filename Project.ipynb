{
 "cells": [
  {
   "cell_type": "markdown",
   "metadata": {},
   "source": [
    "# Iterative Prisoner's Dilemma\n",
    "\n",
    "\n",
    "### Description\n",
    "\n",
    "The [Prisoner's Dilemma](https://en.wikipedia.org/wiki/Prisoner%27s_dilemma) (PD) is a classical game analyzed in game theory, which is widely used to (attempt to) model social/economical interaction. It's a \"dilemma\" as, if exploited to explain the emergence of altruism in human or in general animal society, it fails badly at a first glance.\n",
    "\n",
    "The classical situation-representation of the PD is that of two prisoners whose conviction depends on their mutual cooperation. It is easier understood though if illustrated in terms of a trade-off game (closed bag exachange):\n",
    "\n",
    "*Two people meet and exchange closed bags, with the understanding that one of them contains money, and the other contains a purchase. Either player can choose to honor the deal by putting into his or her bag what he or she agreed, or he or she can defect by handing over an empty bag.*\n",
    "\n",
    "It is obvious that for both players the winning strategy is to NOT cooperate.\n",
    "\n",
    "Things changes when the interaction between the two individuals is iterated, in that case a more altruist attitude (strategy) is expected to emerge. The goal of this project is to test this hypothesis.\n",
    "\n",
    "Mathematically the PD can be expressed with very basic linear algebra. The key component is the **Payoff matrix** $M$, which quantify the reward each player gets depending on whether she cooperated or not (defect):\n",
    "\n",
    "$$\n",
    "M = \n",
    "\\begin{pmatrix} \n",
    "R & S \\\\\n",
    "T & P \n",
    "\\end{pmatrix}\n",
    "$$\n",
    "\n",
    "with $T,R,S,P$ integers that satisfy the following conditions:\n",
    "\n",
    "$$\n",
    "T>R>P>S; \\quad 2R > T+S\n",
    "$$\n",
    "\n",
    "for example $T=3$, $R=2$, $P=1$ and $S=0$, or  $T=5$, $R=3$, $P=2$, $S=0$. Each player choice (move) can be represented by one of the two axis in ${\\rm I\\!R}^2$, i.e. $u_C=\\begin{pmatrix} 1 \\\\ 0 \\end{pmatrix}$ or $u_D=\\begin{pmatrix} 0 \\\\ 1 \\end{pmatrix}$, where the first coordinate stands for *Cooperate* and the second for *Defect*. Being $u_1$ and $u_2$ their rewards $r_1$ and $r_2$ can be computed then as:\n",
    "\n",
    "$$\n",
    "r_1 = u_1^T M u_2\n",
    "\\quad\n",
    "\\quad\n",
    "r_2 = u_2^T M u_1\n",
    "$$\n",
    "\n",
    "In an Iterative Prisoner's Dilemma (IPD), two players play prisoner's dilemma more than once in succession and they remember previous actions of their opponent and change their strategy accordingly. The winning strategy is the one which yields to a larger reward at the end of the IPD.\n",
    "\n",
    "The strategy can be represented as a function which outputs either $u_C$ or $u_D$. Such function can depend on the opponent's history of moves, her on history of moves, on the number of moves played till that moment and so on, but it can only be based on a probability density function. Possible strategies are:\n",
    "\n",
    "* **Nice guy**: always cooperate (the function's output is always $u_D$)\n",
    "* **Bad guy**: always defect \n",
    "* **Mainly nice**: randomly defect $k\\%$ of the times and cooperate $100-k\\%$, $k<50$\n",
    "* **Mainly bad**: randomly defect $k\\%$ of the times and cooperate $100-k\\%$, $k>50$\n",
    "* **tit-for-tat**: start by cooperating, then repeat what the opponent has done in the previous move \n",
    "\n",
    "Many more and much more complex strategies can be implemented. The strategy can even change during the IPD.\n",
    "\n",
    "\n",
    "### Assignments\n",
    "\n",
    "* Implement a simple IPD between two players implementing two given strategies. Study the evolution along the tournament confronting different strategies; study the overall outcome in the different configurations. \n",
    "* Implement a multiple players IPD (MPIPD) where several strategies play against each other in a roud-robin scheme\n",
    "* Iterate what done in the previous task (repeated MPIPD, rMPIPD)  by increasing the population implementing a given strategy depending on the results that strategy achieved in the previous iteration\n",
    "* (*difficult*) Implement a rMPIPD where strategies are allowed to mutate. The goal is to simulate the effect of genetic mutations and the effect of natura selection. A parameter (gene) should encode the attidue of an individual to cooperate, such gene can mutate randomly and the corresponding phenotype should compete in the MPIPD such that the best-fitted is determined.  \n"
   ]
  },
  {
   "attachments": {},
   "cell_type": "markdown",
   "metadata": {},
   "source": [
    "## Basic elements and 1-on-1 matches"
   ]
  },
  {
   "cell_type": "code",
   "execution_count": 7,
   "metadata": {},
   "outputs": [],
   "source": [
    "import numpy as np\n",
    "import numpy.random as npr\n",
    "import pandas as pd\n",
    "import matplotlib.pyplot as plt"
   ]
  },
  {
   "attachments": {},
   "cell_type": "markdown",
   "metadata": {},
   "source": [
    "We start by defining a `Player` class. Each player is assigned two parameters: $k$, which corresponds to the probability of cooperation in each iteration of a game, and $t$, which is related to the “Tit-for-tat” strategy that will be introduced later."
   ]
  },
  {
   "cell_type": "code",
   "execution_count": 8,
   "metadata": {},
   "outputs": [],
   "source": [
    "class Player:\n",
    "    def __init__(self, k, t):\n",
    "        self.k = k\n",
    "        self.t = t\n",
    "\n",
    "    def init_values(self):\n",
    "        return self.k, self.t\n",
    "\n",
    "    def name(self):\n",
    "        # name string for legends in plots, etc.\n",
    "        return rf\"$k = {self.k:.2f}$, $t = {self.t:.2f}$\"\n",
    "\n",
    "    def play(self, hist):\n",
    "        t = npr.random()\n",
    "        if t < self.t:\n",
    "            return True\n",
    "        elif t < -self.t:\n",
    "            return False\n",
    "\n",
    "        return npr.random() < self.k\n",
    " \n",
    "# special child class for tit-for-tat strategies (see later)\n",
    "class TftPlayer(Player):\n",
    "    def play(self, hist):\n",
    "        return hist[-1]"
   ]
  },
  {
   "attachments": {},
   "cell_type": "markdown",
   "metadata": {},
   "source": [
    "Then a function that implements the basic 1-on-1 game mechanics. The default payoff matrix will be\n",
    "$$\n",
    "    M = \\begin{pmatrix} 2 & 0 \\\\ 3 & 1 \\end{pmatrix},\n",
    "$$\n",
    "corresponding to\n",
    "$$\n",
    "    R = 2,\\, S = 0,\\, T = 3,\\, P = 1.\n",
    "$$\n",
    "If both players cooperate, they both receive 2 points (**R**eward). If they betray each other, they each receive 1 point (**P**unishment). If one player betrays their cooperative opponent, the betrayer receives 3 points (**T**emptation payoff) while the betrayed player gets 0 (**S**ucker’s payoff)."
   ]
  },
  {
   "cell_type": "code",
   "execution_count": 9,
   "metadata": {},
   "outputs": [],
   "source": [
    "def game(pl1, pl2, it, payoff=(3, 2, 1, 0)):\n",
    "    hist1 = [True] # only for the correct initialization of tt_guy\n",
    "    hist2 = [True] # same\n",
    "    points = [0, 0]\n",
    "    \n",
    "    for i in range(it):\n",
    "        res1 = pl1.play(hist2)\n",
    "        res2 = pl2.play(hist1)\n",
    "        hist1.append(res1)\n",
    "        hist2.append(res2)\n",
    "        if res1 and res2:\n",
    "            points[0] += payoff[1]\n",
    "            points[1] += payoff[1]\n",
    "        elif res1 and not res2:\n",
    "            points[1] += payoff[0]\n",
    "            points[0] += payoff[3]\n",
    "        elif not res1 and res2:\n",
    "            points[1] += payoff[3]\n",
    "            points[0] += payoff[0]\n",
    "        else:\n",
    "            points[0] += payoff[2]\n",
    "            points[1] += payoff[2]\n",
    " \n",
    "    return points"
   ]
  },
  {
   "attachments": {},
   "cell_type": "markdown",
   "metadata": {},
   "source": [
    "Then, we define the following basic strategies:\n",
    "* _nice player_, a player who always cooperates;\n",
    "* _evil player_, a player who always betrays.\n",
    "\n",
    "And the intermediate versions:\n",
    "* _average player_, a player who cooperates half the time;\n",
    "* _mostly nice player_, a player with a cooperation probability of 0.75;\n",
    "* _mostly bad player_, a player with a cooperation probability of 0.25.\n",
    "\n",
    "Also, we’ll implement a basic example of a different kind of strategy, commonly referred to as “tit-for-tat”. A tit-for-tat player starts by cooperating on the first iteration and then copies their opponent’s previous move from that point forward."
   ]
  },
  {
   "cell_type": "code",
   "execution_count": 10,
   "metadata": {},
   "outputs": [],
   "source": [
    "nice_pl = Player(1, 0)\n",
    "evil_pl = Player(0, 0)\n",
    "avg_pl = Player(0.5, 0)\n",
    "mnice_pl = Player(0.75, 0)\n",
    "mevil_pl = Player(0.25, 0)\n",
    "tt_pl = TftPlayer(0, 1)"
   ]
  },
  {
   "attachments": {},
   "cell_type": "markdown",
   "metadata": {},
   "source": [
    "Let’s examine some 1-on-1 matchups of these strategies.\n",
    "\n",
    "The result of a nice versus evil match is easily predicted: Nice will always receive the sucker’s payoff, while Evil will receive a temptation reward in every iteration, resulting in a score of T times the number of iterations to zero in favour of the betrayer.\n",
    "\n",
    "If the number of iterations is large enough, matchups between mostly nice/evil players are also predictable. For example, in the Evil versus Average matchup, the score ratio will converge to 4 in favour of Evil.\n",
    "This is because half the time both players will receive $P = 1$ points (reciprocal betrayal), while in the other instances Evil will receive $T=3$ points and Average will receive $S = 0$. So, if $E$ is Evil’s score and $A$ is Average’s,\n",
    "$$\n",
    "    \\frac{E}{A} \\approx \\frac{P / 2 + T / 2}{P / 2 + S / 2} = 4.\n",
    "$$\n",
    "Indeed:"
   ]
  },
  {
   "cell_type": "code",
   "execution_count": 11,
   "metadata": {},
   "outputs": [
    {
     "name": "stdout",
     "output_type": "stream",
     "text": [
      "Evil v Average:\n",
      " [1960, 520]\n",
      "Score ratio: 1960 / 520 = 3.769230769230769\n"
     ]
    }
   ],
   "source": [
    "iters = 1000\n",
    "evil_v_avg = game(evil_pl, avg_pl, iters)\n",
    "print(f\"Evil v Average:\\n {evil_v_avg}\")\n",
    "print(f\"Score ratio: {evil_v_avg[0]} / {evil_v_avg[1]} \\\n",
    "= {evil_v_avg[0] / evil_v_avg[1]}\")"
   ]
  },
  {
   "attachments": {},
   "cell_type": "markdown",
   "metadata": {},
   "source": [
    "Betrayal usually prevails, as seen in the classic dilemma. The situation becomes more intriguing when a tit-for-tat player is introduced. Let's observe how they fare with the reigning champion."
   ]
  },
  {
   "cell_type": "code",
   "execution_count": 12,
   "metadata": {},
   "outputs": [
    {
     "name": "stdout",
     "output_type": "stream",
     "text": [
      "Tit-for-tat v Evil:\n",
      " [999, 1002]\n"
     ]
    }
   ],
   "source": [
    "tt_v_evil = game(tt_pl, evil_pl, iters)\n",
    "print(f\"Tit-for-tat v Evil:\\n {tt_v_evil}\")"
   ]
  },
  {
   "attachments": {},
   "cell_type": "markdown",
   "metadata": {},
   "source": [
    "Evil wins by three points. The first move is crucial: Tit-for-tat cooperates initially and hence loses three points to Evil. From that point on, they engage in reciprocal betrayal in every turn, resulting in each player earning one point. With our 1000 iterations, the final score becomes 999 to 1002.\n",
    "\n",
    "Then, what happens to the other players? To get the full picture, we’ll play a small tournament among these six players and look at the averaged scores at the end."
   ]
  },
  {
   "cell_type": "code",
   "execution_count": 13,
   "metadata": {},
   "outputs": [
    {
     "data": {
      "text/html": [
       "<div>\n",
       "<style scoped>\n",
       "    .dataframe tbody tr th:only-of-type {\n",
       "        vertical-align: middle;\n",
       "    }\n",
       "\n",
       "    .dataframe tbody tr th {\n",
       "        vertical-align: top;\n",
       "    }\n",
       "\n",
       "    .dataframe thead th {\n",
       "        text-align: right;\n",
       "    }\n",
       "</style>\n",
       "<table border=\"1\" class=\"dataframe\">\n",
       "  <thead>\n",
       "    <tr style=\"text-align: right;\">\n",
       "      <th></th>\n",
       "      <th>Nice</th>\n",
       "      <th>Evil</th>\n",
       "      <th>Average</th>\n",
       "      <th>Mostly Nice</th>\n",
       "      <th>Mostly Evil</th>\n",
       "      <th>Tit-for-tat</th>\n",
       "    </tr>\n",
       "  </thead>\n",
       "  <tbody>\n",
       "    <tr>\n",
       "      <th>Nice</th>\n",
       "      <td>2.00000</td>\n",
       "      <td>0.00000</td>\n",
       "      <td>1.00504</td>\n",
       "      <td>1.49842</td>\n",
       "      <td>0.50206</td>\n",
       "      <td>2.00000</td>\n",
       "    </tr>\n",
       "    <tr>\n",
       "      <th>Evil</th>\n",
       "      <td>3.00000</td>\n",
       "      <td>1.00000</td>\n",
       "      <td>1.99138</td>\n",
       "      <td>2.49528</td>\n",
       "      <td>1.50496</td>\n",
       "      <td>1.00200</td>\n",
       "    </tr>\n",
       "    <tr>\n",
       "      <th>Average</th>\n",
       "      <td>2.49748</td>\n",
       "      <td>0.50431</td>\n",
       "      <td>1.50735</td>\n",
       "      <td>1.99462</td>\n",
       "      <td>0.99846</td>\n",
       "      <td>1.50113</td>\n",
       "    </tr>\n",
       "    <tr>\n",
       "      <th>Mostly Nice</th>\n",
       "      <td>2.25079</td>\n",
       "      <td>0.25236</td>\n",
       "      <td>1.25647</td>\n",
       "      <td>1.75226</td>\n",
       "      <td>0.75154</td>\n",
       "      <td>1.75217</td>\n",
       "    </tr>\n",
       "    <tr>\n",
       "      <th>Mostly Evil</th>\n",
       "      <td>2.74897</td>\n",
       "      <td>0.74752</td>\n",
       "      <td>1.75314</td>\n",
       "      <td>2.24863</td>\n",
       "      <td>1.24567</td>\n",
       "      <td>1.24957</td>\n",
       "    </tr>\n",
       "    <tr>\n",
       "      <th>Tit-for-tat</th>\n",
       "      <td>2.00000</td>\n",
       "      <td>0.99900</td>\n",
       "      <td>1.49981</td>\n",
       "      <td>1.75139</td>\n",
       "      <td>1.24738</td>\n",
       "      <td>2.00000</td>\n",
       "    </tr>\n",
       "  </tbody>\n",
       "</table>\n",
       "</div>"
      ],
      "text/plain": [
       "                Nice     Evil  Average  Mostly Nice  Mostly Evil  Tit-for-tat\n",
       "Nice         2.00000  0.00000  1.00504      1.49842      0.50206      2.00000\n",
       "Evil         3.00000  1.00000  1.99138      2.49528      1.50496      1.00200\n",
       "Average      2.49748  0.50431  1.50735      1.99462      0.99846      1.50113\n",
       "Mostly Nice  2.25079  0.25236  1.25647      1.75226      0.75154      1.75217\n",
       "Mostly Evil  2.74897  0.74752  1.75314      2.24863      1.24567      1.24957\n",
       "Tit-for-tat  2.00000  0.99900  1.49981      1.75139      1.24738      2.00000"
      ]
     },
     "execution_count": 13,
     "metadata": {},
     "output_type": "execute_result"
    }
   ],
   "source": [
    "def round_robin(players, iters, num_games):\n",
    "    N = len(players)\n",
    "    results = np.zeros((N, N))\n",
    "    for g in range(num_games):\n",
    "        for i in range(N):\n",
    "            # start from i to allow players to compete against themselves\n",
    "            for j in range(i, N):\n",
    "                score = game(players[i], players[j], iters)\n",
    "                # results[i, j] is the sum of all points made\n",
    "                # by player i when playing j\n",
    "                results[i, j] += score[0]\n",
    "                if i == j:\n",
    "                    continue # avoid double counting\n",
    "                results[j, i] += score[1]\n",
    "\n",
    "    # return average points per iteration\n",
    "    return results / (num_games * iters)\n",
    "\n",
    "players = [nice_pl, evil_pl, avg_pl, mnice_pl, mevil_pl, tt_pl]\n",
    "player_names = [\"Nice\", \"Evil\", \"Average\",\n",
    "                \"Mostly Nice\", \"Mostly Evil\", \"Tit-for-tat\"]\n",
    "\n",
    "tournament = round_robin(players, 1000, 100)\n",
    "tournament = pd.DataFrame(tournament,\n",
    "                          index=player_names,\n",
    "                          columns=player_names)\n",
    "\n",
    "tournament"
   ]
  },
  {
   "attachments": {},
   "cell_type": "markdown",
   "metadata": {},
   "source": [
    "The entries in the tournament matrix indicate the average score achieved by the player associated with the corresponding row, across all rounds, against the player represented by the column.\n",
    "\n",
    "Thus, by taking the average along the rows, we can determine which\n",
    "player performs the best, on average."
   ]
  },
  {
   "cell_type": "code",
   "execution_count": 14,
   "metadata": {},
   "outputs": [
    {
     "data": {
      "text/plain": [
       "Evil           1.832270\n",
       "Mostly Evil    1.665583\n",
       "Tit-for-tat    1.582930\n",
       "Average        1.500558\n",
       "Mostly Nice    1.335932\n",
       "Nice           1.167587\n",
       "dtype: float64"
      ]
     },
     "execution_count": 14,
     "metadata": {},
     "output_type": "execute_result"
    }
   ],
   "source": [
    "standings = tournament.mean(axis=1).sort_values(ascending=False)\n",
    "standings"
   ]
  },
  {
   "attachments": {},
   "cell_type": "markdown",
   "metadata": {},
   "source": [
    "The evil players win, once again!\n",
    "\n",
    "However, if we look the average score obtained by each player *against themselves*, we get this:"
   ]
  },
  {
   "cell_type": "code",
   "execution_count": 15,
   "metadata": {},
   "outputs": [
    {
     "data": {
      "text/plain": [
       "Nice           2.00000\n",
       "Tit-for-tat    2.00000\n",
       "Mostly Nice    1.75226\n",
       "Average        1.50735\n",
       "Mostly Evil    1.24567\n",
       "Evil           1.00000\n",
       "dtype: float64"
      ]
     },
     "execution_count": 15,
     "metadata": {},
     "output_type": "execute_result"
    }
   ],
   "source": [
    "standings_self = pd.Series(np.diag(tournament),\n",
    "                           index=player_names).sort_values(ascending=False)\n",
    "standings_self"
   ]
  },
  {
   "attachments": {},
   "cell_type": "markdown",
   "metadata": {},
   "source": [
    "So, Evil players do well against other types of players, but their\n",
    "individualistic strategy leads to suboptimal outcomes for the population\n",
    "as a whole. A completely Evil population will result in the least favourable\n",
    "distribution of rewards.\n",
    "\n",
    "On the other end of the spectrum are Nice and Tit-for-tat players.\n",
    "Out of these two, as we’ve seen above, Tit-for-tat has a better performance\n",
    "across the board. If we were to look at it from a “Survival of the Fittest”\n",
    "perspective, we’d expect Tit-for-tat – or some variant of it – to\n",
    "become the dominant strategy. This is what we’ll investigate in the next\n",
    "section."
   ]
  },
  {
   "attachments": {},
   "cell_type": "markdown",
   "metadata": {},
   "source": [
    "## Battle Royal\n",
    "\n",
    "In this section we’ll implement an “evolutionary” round-robin tournament:\n",
    "we’ll keep a fixed total population of players throughout the tournament,\n",
    "but the number of players in each class will change proportionally to the \n",
    "scores in the previous round. The following function `init_classed` sets\n",
    "up the initial population of players. We’ll start with a uniform \n",
    "distribution of the six strategies we discussed in the previous section."
   ]
  },
  {
   "cell_type": "code",
   "execution_count": 16,
   "metadata": {},
   "outputs": [],
   "source": [
    "def init_classed(num_players):\n",
    "    return np.array([Player(1, 0), Player(0.75, 0), Player(0.5, 0), \n",
    "                     Player(0.25, 0), Player(0, 0), TftPlayer(0, 1)]\n",
    "                    * (num_players // 6)\n",
    "                    # fill remaining spots with Average players\n",
    "                    + [Player(0.5, 0)] * (num_players % 6))"
   ]
  },
  {
   "attachments": {},
   "cell_type": "markdown",
   "metadata": {},
   "source": [
    "The next function, `repeated`, performs a run of a given number of cycles \n",
    "and stops it if the scores remain unchanged for 20 consecutive cycles, with\n",
    "a tolerance of 0.001%. The function `select` is used to sort the results\n",
    "and adjust the distribution of the population according to the following \n",
    "rule:\n",
    "$$\n",
    "    C_i^{(n + 1)} = C_i^{(n)} \\biggl(1 + \\frac{S_i^{(n)} - \\mu_{\\vphantom{i}}^{(n)}}{\\mu^{(n)}}\\biggr),\n",
    "$$\n",
    "where $C_i^{(n)}$ is the number of players in the class (strategy) $i$ at the $n$-th\n",
    "cycle, $S_i^{(n)}$ the score of the $i$-th class, and\n",
    "$$\n",
    "    \\mu^{(n)} = \\frac{1}{N_\\mathrm{p}} \\sum_{i = 1}^{N_\\mathrm{c}}\n",
    "    C_i^{(n)} S_i^{(n)}\n",
    "$$\n",
    "with $N_\\mathrm{c}$ the number of classes and $N_\\mathrm{p}$ the total number of players. Here is a simple proof that the total population doesn’t change using this update rule:\n",
    "$$\n",
    "    \\sum_{i=1}^{N_\\mathrm{c}} C_{i}^{(n + 1)} = \\sum_{i = 1}^{N_\\mathrm{c}} {}\\Biggl[C_i^{(n)} + \n",
    "    \\frac{C_i^{(n)}}{\\mu^{(n)}} \\Biggl(S_i^{(n)} - \\frac{1}{N_\\mathrm{p}} \\sum_{j = 1}^{N_\\mathrm{c}} C_j^{(n)} S_j^{(n)} \\Biggr)\\Biggr],\n",
    "$$\n",
    "and since $C_i^{(n)} = N_\\mathrm{p}$,\n",
    "$$\n",
    "    \\sum_{i = 1}^{N_\\mathrm{c}} C_{i}^{(n + 1)} \n",
    "    = N_\\mathrm{p} + \n",
    "        \\frac{1}{\\mu^{(n)}} \\sum_{i=1}^{N_\\mathrm{c}} C_i^{(n)} S_i^{(n)} \n",
    "        - \\frac{N_\\mathrm{p}}{\\mu^{(n)}} \\sum_{j = 1}^{N_\\mathrm{c}} \\frac{C_{j}^{(n)} S_j^{(n)}}{N_\\mathrm{p}} = N_\\mathrm{p}.\n",
    "$$\n",
    "So, the strategies with higher scores will reproduce more, while the population with below-average performance will decrease as the tournament progresses.\n",
    "\n",
    "We’ll also redefine the tournament function to perform the calculations in parallel, to better handle a large number of players."
   ]
  },
  {
   "cell_type": "code",
   "execution_count": 17,
   "metadata": {},
   "outputs": [],
   "source": [
    "from multiprocessing import Pool \n",
    "\n",
    "def round_robin(players, iters):\n",
    "    N = len(players)\n",
    "\n",
    "    results = [[None for i in range(N)] for j in range(N)]\n",
    "    scores = [0 for i in range(N)]\n",
    "\n",
    "    with Pool() as p:\n",
    "        for i in range(N):\n",
    "            for j in range(i + 1, N):\n",
    "                res = p.apply_async(game, (players[i], players[j], iters))\n",
    "                results[i][j] = res\n",
    "        \n",
    "        for i in range(N):\n",
    "            for j in range(i + 1, N):\n",
    "                res = results[i][j].get()\n",
    "                scores[i] += res[0]\n",
    "                scores[j] += res[1]\n",
    "    \n",
    "    return scores"
   ]
  },
  {
   "cell_type": "code",
   "execution_count": 18,
   "metadata": {},
   "outputs": [],
   "source": [
    "def select(players, scores, notquite=False):\n",
    "    num_players = len(players)\n",
    "    \n",
    "    #types = {(p.name(), p.init_values()) for p in players}\n",
    "    types = []\n",
    "    for p in players:\n",
    "        player_type = (p.__class__, p.init_values())\n",
    "        for t in types:\n",
    "            if t == player_type:\n",
    "                break\n",
    "        else:\n",
    "            types.append(player_type)\n",
    "\n",
    "    sc_by_type = []\n",
    "    num_by_type = []\n",
    "\n",
    "    for idx_t, t in enumerate(types):\n",
    "        t_score = []\n",
    "        for idx_p, p in enumerate(players):\n",
    "            if t == (p.__class__, p.init_values()):\n",
    "                t_score.append(scores[idx_p])\n",
    " \n",
    "        sc_by_type.append(np.mean(t_score))\n",
    "        num_by_type.append(len(t_score))\n",
    "\n",
    "    if notquite:\n",
    "        return types, sc_by_type, num_by_type\n",
    "\n",
    "    glob = sorted([(types[i], sc_by_type[i], num_by_type[i])\n",
    "                   for i in range(len(types))],\n",
    "                  key=lambda x: x[1], reverse=True)\n",
    "\n",
    "    types = [g[0] for g in glob]\n",
    "    sc_by_type = np.array([g[1] for g in glob])\n",
    "    num_by_type = np.array([g[2] for g in glob])\n",
    "\n",
    "    mu = np.sum(num_by_type * sc_by_type) / num_players\n",
    "    new_nums = (num_by_type\n",
    "                + num_by_type * (sc_by_type - mu) / mu).astype(int)\n",
    "        \n",
    "    new_players = []\n",
    "    for idx_t in range(len(types)):\n",
    "        for n in range(new_nums[idx_t]):\n",
    "            new_players.append(types[idx_t][0](*types[idx_t][1]))\n",
    "    while len(new_players) < num_players:\n",
    "        new_players.append(types[0][0](*types[0][1]))\n",
    "\n",
    "    return new_players"
   ]
  },
  {
   "cell_type": "code",
   "execution_count": 19,
   "metadata": {},
   "outputs": [],
   "source": [
    "def repeated(num_players, iters, cycles, classed=True):\n",
    "    if classed:\n",
    "        players = init_classed(num_players)\n",
    "    else:\n",
    "        players = init(num_players)\n",
    "\n",
    "    scores = round_robin(players, iters)\n",
    "    results = [(players, scores)]\n",
    "\n",
    "    stop_counter = 0\n",
    "    for i in range(cycles - 1):\n",
    "        if classed:\n",
    "            players = select(players, scores)\n",
    "        else:\n",
    "            players = evolve(players, scores)\n",
    "\n",
    "        scores = round_robin(players, iters)\n",
    "        results.append((players, scores))\n",
    "\n",
    "        if (np.allclose(scores, results[i][1],\n",
    "                        atol=0.0001 * max(scores))):\n",
    "            stop_counter += 1\n",
    "        else:\n",
    "            stop_counter = 0\n",
    "        \n",
    "        if stop_counter == 20:\n",
    "            break\n",
    "\n",
    "    return results"
   ]
  },
  {
   "attachments": {},
   "cell_type": "markdown",
   "metadata": {},
   "source": [
    "Then, the function `stats` computes the mean and standard deviation of the scores for each strategy over the last 20 cycles, where a stable solution should have been reached. Additionally, it generates two plots to display the trend of both the count and score of each strategy."
   ]
  },
  {
   "cell_type": "code",
   "execution_count": 110,
   "metadata": {},
   "outputs": [],
   "source": [
    "from seaborn import color_palette\n",
    "\n",
    "def stats(results):\n",
    "    scores = []\n",
    "    counts = []\n",
    "    strats, scs, nums = select(*results[0], True)\n",
    "    names = [s[0](*s[1]).name() for s in strats]\n",
    "\n",
    "    scores.append(scs)\n",
    "    counts.append(nums)\n",
    "\n",
    "    for res in results[1:]:\n",
    "        strats, scs, nums = select(*res, True)\n",
    "        new_names = [s[0](*s[1]).name() for s in strats]\n",
    "\n",
    "        sc_ord = []\n",
    "        num_ord = []\n",
    "        for i in range(len(names)):\n",
    "            for j in range(len(new_names)):\n",
    "                if new_names[j] == names[i]:\n",
    "                    sc_ord.append(scs[j])\n",
    "                    num_ord.append(nums[j])\n",
    "                    break\n",
    "            else:\n",
    "                sc_ord.append(0)\n",
    "                num_ord.append(0)\n",
    "\n",
    "        scores.append(sc_ord)\n",
    "        counts.append(num_ord)\n",
    "    \n",
    "    # sort names by k value, then t\n",
    "    def sort_names(name):\n",
    "        t, k = name.split(\", \")\n",
    "        t_value = float(t.split(\" = \")[1].strip(\"$\"))\n",
    "        k_value = float(k.split(\" = \")[1].strip(\"$\"))\n",
    "        return (k_value, t_value)\n",
    "    \n",
    "    sort_idx = [names.index(n) for n in sorted(names, key=sort_names)]\n",
    "    names = np.asarray(names)[sort_idx]\n",
    "    scores = np.asarray(scores).T[sort_idx]\n",
    "    counts = np.asarray(counts).T[sort_idx]\n",
    "\n",
    "    means = []\n",
    "    dev = []\n",
    "\n",
    "    num_rounds = len(results)\n",
    "    \n",
    "    colors = color_palette(\"coolwarm\", len(names) - 1)[::-1] + [\"#3E8E41\"]\n",
    "    \n",
    "    fig, ax = plt.subplots(nrows=1, ncols=2, figsize=(12, 8))\n",
    "    for n in range(len(names)):\n",
    "        means.append(np.mean(scores[n][-20:]))\n",
    "        dev.append(np.std(scores[n][-20:]))\n",
    "\n",
    "        # stop plotting when count is 0\n",
    "        mask = (counts[n] > 0)\n",
    "        rounds = np.arange(0, num_rounds)\n",
    "        ax[0].plot(rounds[mask], scores[n][mask],\n",
    "                   c=colors[n], label=names[n])\n",
    "        ax[1].plot(rounds, counts[n],\n",
    "                   c=colors[n], label=names[n])\n",
    "\n",
    "    for i in (0, 1):\n",
    "        ax[i].set_ylim(0)\n",
    "        ax[i].set_xlim((0, num_rounds - 1))\n",
    "        ax[i].set_xlabel(\"Round number\")\n",
    "    ax[0].set_ylabel(\"Average score per round\")\n",
    "    ax[1].set_ylabel(\"Number of players\")\n",
    "\n",
    "    handles, labels = ax[0].get_legend_handles_labels()\n",
    "    fig.legend(handles, labels, loc=\"right\")\n",
    "\n",
    "    return strats, means, dev"
   ]
  },
  {
   "cell_type": "code",
   "execution_count": 21,
   "metadata": {},
   "outputs": [],
   "source": [
    "N = 120\n",
    "it = 100\n",
    "cyc = 100\n",
    "\n",
    "hist = repeated(N, it, cyc)"
   ]
  },
  {
   "cell_type": "code",
   "execution_count": 111,
   "metadata": {},
   "outputs": [
    {
     "data": {
      "image/png": "[encoded data removed]",
      "text/plain": [
       "<Figure size 1200x800 with 2 Axes>"
      ]
     },
     "metadata": {},
     "output_type": "display_data"
    }
   ],
   "source": [
    "strategies, means, stdevs = stats(hist)"
   ]
  },
  {
   "attachments": {},
   "cell_type": "markdown",
   "metadata": {},
   "source": [
    "It’s interesting to note that initially, the average score of all strategies decreases. This is because the Evil players ($k = 0$, $t = 0$) have the highest score in the first five rounds, leading to an increase in their population, which decreases the average score of all other strategies. The only strategy that can compete is, indeed, Tit-for-tat, as it earns more points than the constant betrayers, thanks to their cooperative behaviour with players of the same species and a defecting behaviour towards Evils."
   ]
  },
  {
   "attachments": {},
   "cell_type": "markdown",
   "metadata": {},
   "source": [
    "Here’s another important example with only 5 Tit-for-tats grouped with 95 Evil players."
   ]
  },
  {
   "cell_type": "code",
   "execution_count": 113,
   "metadata": {},
   "outputs": [],
   "source": [
    "def init_classed(N):\n",
    "    return np.array([Player(0, 0)] * (N - 5) + [Player(0, 1)] * 5)\n",
    "\n",
    "N = 100\n",
    "it = 100\n",
    "cyc = 100\n",
    "hist = repeated(N, it, cyc)"
   ]
  },
  {
   "cell_type": "code",
   "execution_count": 114,
   "metadata": {},
   "outputs": [
    {
     "data": {
      "image/png": "[encoded data removed]",
      "text/plain": [
       "<Figure size 1200x800 with 2 Axes>"
      ]
     },
     "metadata": {},
     "output_type": "display_data"
    }
   ],
   "source": [
    "strategies, means, stdevs = stats(hist)"
   ]
  },
  {
   "cell_type": "code",
   "execution_count": null,
   "metadata": {},
   "outputs": [],
   "source": []
  }
 ],
 "metadata": {
  "kernelspec": {
   "display_name": "LCP",
   "language": "python",
   "name": "python3"
  },
  "language_info": {
   "codemirror_mode": {
    "name": "ipython",
    "version": 3
   },
   "file_extension": ".py",
   "mimetype": "text/x-python",
   "name": "python",
   "nbconvert_exporter": "python",
   "pygments_lexer": "ipython3",
   "version": "3.10.6"
  },
  "vscode": {
   "interpreter": {
    "hash": "fdbb663ad9ba1b792610492e9c14cc4502c8785e473cf31bd41558f2f35aac4e"
   }
  }
 },
 "nbformat": 4,
 "nbformat_minor": 2
}
