{
 "cells": [
  {
   "attachments": {},
   "cell_type": "markdown",
   "metadata": {},
   "source": [
    "# List of IPD strategies\n",
    "\n",
    "1. **Always Cooperate**: cooperates on every move.\n",
    "2. **Always Defect**: defects on every move.\n",
    "3. **Tit for Tat**: cooperates on the first move, then simply copies the opponent’s last move.\n",
    "4. **Suspicious Tit for Tat**: same as Tit for Tat, except that it defects on the first move.\n",
    "5. **Pavlov**: cooperates on the first move, and defects only if both the players did not agree on the previous move.\n",
    "6. **Spiteful**: cooperates until the opponent defects, and thereafter always defects.\n",
    "7. **Random Player**: makes a random move.\n",
    "8. **Periodic Player CD**: plays C (cooperation), D (defect) periodically.\n",
    "9. **Periodic Player DDC**: plays D, D, C periodically.\n",
    "10. **Periodic Player CCD**: plays C, C, D periodically.\n",
    "11. **Tit for Two Tats**: cooperates on the first move, and defects only when the opponent defects two times.\n",
    "12. **Soft Majority**: begins by cooperating, and cooperates as long as the number of times the opponent has cooperated is greater than or equal to the number of times it has defected, else it defects.\n",
    "13. **Hard Majority**: defects on the first move, and defects if the number of defections of the opponent is greater than or equal to the number of times it has cooperated, else cooperates.\n",
    "14. **Hard Tit for Tat**: cooperates on the first move, and defects if the opponent has defects on any of the previous three moves, else cooperates.\n",
    "15. **Naive Prober**: like Tit for Tat, but occasionally defects with a probability of 0.01.\n",
    "16. **Remorseful Prober**: like Naive Prober, but it tries to break the series of mutual defections after defecting."
   ]
  }
 ],
 "metadata": {
  "kernelspec": {
   "display_name": "Python 3",
   "language": "python",
   "name": "python3"
  },
  "language_info": {
   "name": "python",
   "version": "3.10.6 (main, Nov 14 2022, 16:10:14) [GCC 11.3.0]"
  },
  "orig_nbformat": 4,
  "vscode": {
   "interpreter": {
    "hash": "e7370f93d1d0cde622a1f8e1c04877d8463912d04d973331ad4851f04de6915a"
   }
  }
 },
 "nbformat": 4,
 "nbformat_minor": 2
}
